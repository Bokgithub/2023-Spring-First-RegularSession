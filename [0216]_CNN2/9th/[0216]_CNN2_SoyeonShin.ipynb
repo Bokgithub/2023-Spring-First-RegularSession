{
  "nbformat": 4,
  "nbformat_minor": 0,
  "metadata": {
    "colab": {
      "provenance": []
    },
    "kernelspec": {
      "name": "python3",
      "display_name": "Python 3"
    },
    "accelerator": "GPU",
    "gpuClass": "standard",
    "widgets": {
      "application/vnd.jupyter.widget-state+json": {
        "53be0905caac448a9e3cd35407b7bdce": {
          "model_module": "@jupyter-widgets/controls",
          "model_name": "HBoxModel",
          "model_module_version": "1.5.0",
          "state": {
            "_dom_classes": [],
            "_model_module": "@jupyter-widgets/controls",
            "_model_module_version": "1.5.0",
            "_model_name": "HBoxModel",
            "_view_count": null,
            "_view_module": "@jupyter-widgets/controls",
            "_view_module_version": "1.5.0",
            "_view_name": "HBoxView",
            "box_style": "",
            "children": [
              "IPY_MODEL_933afa63f9c643df90483a1ceebffec0",
              "IPY_MODEL_14908597f7fe425ca599cc3ef1906c8c",
              "IPY_MODEL_fb94bbcd1a164d5f8988d522190bca82"
            ],
            "layout": "IPY_MODEL_f6cf6dbcaf7049a8b09899b5298e4e49"
          }
        },
        "933afa63f9c643df90483a1ceebffec0": {
          "model_module": "@jupyter-widgets/controls",
          "model_name": "HTMLModel",
          "model_module_version": "1.5.0",
          "state": {
            "_dom_classes": [],
            "_model_module": "@jupyter-widgets/controls",
            "_model_module_version": "1.5.0",
            "_model_name": "HTMLModel",
            "_view_count": null,
            "_view_module": "@jupyter-widgets/controls",
            "_view_module_version": "1.5.0",
            "_view_name": "HTMLView",
            "description": "",
            "description_tooltip": null,
            "layout": "IPY_MODEL_7c07418eb3df476ba2703e346a3850f9",
            "placeholder": "​",
            "style": "IPY_MODEL_6a2dc136a8c9453eacabf6f06bd1fff2",
            "value": "100%"
          }
        },
        "14908597f7fe425ca599cc3ef1906c8c": {
          "model_module": "@jupyter-widgets/controls",
          "model_name": "FloatProgressModel",
          "model_module_version": "1.5.0",
          "state": {
            "_dom_classes": [],
            "_model_module": "@jupyter-widgets/controls",
            "_model_module_version": "1.5.0",
            "_model_name": "FloatProgressModel",
            "_view_count": null,
            "_view_module": "@jupyter-widgets/controls",
            "_view_module_version": "1.5.0",
            "_view_name": "ProgressView",
            "bar_style": "success",
            "description": "",
            "description_tooltip": null,
            "layout": "IPY_MODEL_eae9996c75624bada44020aa0bf52ada",
            "max": 170498071,
            "min": 0,
            "orientation": "horizontal",
            "style": "IPY_MODEL_790a4c6a17f94ed3801bf7ca620c7e50",
            "value": 170498071
          }
        },
        "fb94bbcd1a164d5f8988d522190bca82": {
          "model_module": "@jupyter-widgets/controls",
          "model_name": "HTMLModel",
          "model_module_version": "1.5.0",
          "state": {
            "_dom_classes": [],
            "_model_module": "@jupyter-widgets/controls",
            "_model_module_version": "1.5.0",
            "_model_name": "HTMLModel",
            "_view_count": null,
            "_view_module": "@jupyter-widgets/controls",
            "_view_module_version": "1.5.0",
            "_view_name": "HTMLView",
            "description": "",
            "description_tooltip": null,
            "layout": "IPY_MODEL_02fd85cf4b354e5190f80a1716ebd58c",
            "placeholder": "​",
            "style": "IPY_MODEL_2548716e0b474ff7b75843c1bf4a5906",
            "value": " 170498071/170498071 [00:16&lt;00:00, 10293385.52it/s]"
          }
        },
        "f6cf6dbcaf7049a8b09899b5298e4e49": {
          "model_module": "@jupyter-widgets/base",
          "model_name": "LayoutModel",
          "model_module_version": "1.2.0",
          "state": {
            "_model_module": "@jupyter-widgets/base",
            "_model_module_version": "1.2.0",
            "_model_name": "LayoutModel",
            "_view_count": null,
            "_view_module": "@jupyter-widgets/base",
            "_view_module_version": "1.2.0",
            "_view_name": "LayoutView",
            "align_content": null,
            "align_items": null,
            "align_self": null,
            "border": null,
            "bottom": null,
            "display": null,
            "flex": null,
            "flex_flow": null,
            "grid_area": null,
            "grid_auto_columns": null,
            "grid_auto_flow": null,
            "grid_auto_rows": null,
            "grid_column": null,
            "grid_gap": null,
            "grid_row": null,
            "grid_template_areas": null,
            "grid_template_columns": null,
            "grid_template_rows": null,
            "height": null,
            "justify_content": null,
            "justify_items": null,
            "left": null,
            "margin": null,
            "max_height": null,
            "max_width": null,
            "min_height": null,
            "min_width": null,
            "object_fit": null,
            "object_position": null,
            "order": null,
            "overflow": null,
            "overflow_x": null,
            "overflow_y": null,
            "padding": null,
            "right": null,
            "top": null,
            "visibility": null,
            "width": null
          }
        },
        "7c07418eb3df476ba2703e346a3850f9": {
          "model_module": "@jupyter-widgets/base",
          "model_name": "LayoutModel",
          "model_module_version": "1.2.0",
          "state": {
            "_model_module": "@jupyter-widgets/base",
            "_model_module_version": "1.2.0",
            "_model_name": "LayoutModel",
            "_view_count": null,
            "_view_module": "@jupyter-widgets/base",
            "_view_module_version": "1.2.0",
            "_view_name": "LayoutView",
            "align_content": null,
            "align_items": null,
            "align_self": null,
            "border": null,
            "bottom": null,
            "display": null,
            "flex": null,
            "flex_flow": null,
            "grid_area": null,
            "grid_auto_columns": null,
            "grid_auto_flow": null,
            "grid_auto_rows": null,
            "grid_column": null,
            "grid_gap": null,
            "grid_row": null,
            "grid_template_areas": null,
            "grid_template_columns": null,
            "grid_template_rows": null,
            "height": null,
            "justify_content": null,
            "justify_items": null,
            "left": null,
            "margin": null,
            "max_height": null,
            "max_width": null,
            "min_height": null,
            "min_width": null,
            "object_fit": null,
            "object_position": null,
            "order": null,
            "overflow": null,
            "overflow_x": null,
            "overflow_y": null,
            "padding": null,
            "right": null,
            "top": null,
            "visibility": null,
            "width": null
          }
        },
        "6a2dc136a8c9453eacabf6f06bd1fff2": {
          "model_module": "@jupyter-widgets/controls",
          "model_name": "DescriptionStyleModel",
          "model_module_version": "1.5.0",
          "state": {
            "_model_module": "@jupyter-widgets/controls",
            "_model_module_version": "1.5.0",
            "_model_name": "DescriptionStyleModel",
            "_view_count": null,
            "_view_module": "@jupyter-widgets/base",
            "_view_module_version": "1.2.0",
            "_view_name": "StyleView",
            "description_width": ""
          }
        },
        "eae9996c75624bada44020aa0bf52ada": {
          "model_module": "@jupyter-widgets/base",
          "model_name": "LayoutModel",
          "model_module_version": "1.2.0",
          "state": {
            "_model_module": "@jupyter-widgets/base",
            "_model_module_version": "1.2.0",
            "_model_name": "LayoutModel",
            "_view_count": null,
            "_view_module": "@jupyter-widgets/base",
            "_view_module_version": "1.2.0",
            "_view_name": "LayoutView",
            "align_content": null,
            "align_items": null,
            "align_self": null,
            "border": null,
            "bottom": null,
            "display": null,
            "flex": null,
            "flex_flow": null,
            "grid_area": null,
            "grid_auto_columns": null,
            "grid_auto_flow": null,
            "grid_auto_rows": null,
            "grid_column": null,
            "grid_gap": null,
            "grid_row": null,
            "grid_template_areas": null,
            "grid_template_columns": null,
            "grid_template_rows": null,
            "height": null,
            "justify_content": null,
            "justify_items": null,
            "left": null,
            "margin": null,
            "max_height": null,
            "max_width": null,
            "min_height": null,
            "min_width": null,
            "object_fit": null,
            "object_position": null,
            "order": null,
            "overflow": null,
            "overflow_x": null,
            "overflow_y": null,
            "padding": null,
            "right": null,
            "top": null,
            "visibility": null,
            "width": null
          }
        },
        "790a4c6a17f94ed3801bf7ca620c7e50": {
          "model_module": "@jupyter-widgets/controls",
          "model_name": "ProgressStyleModel",
          "model_module_version": "1.5.0",
          "state": {
            "_model_module": "@jupyter-widgets/controls",
            "_model_module_version": "1.5.0",
            "_model_name": "ProgressStyleModel",
            "_view_count": null,
            "_view_module": "@jupyter-widgets/base",
            "_view_module_version": "1.2.0",
            "_view_name": "StyleView",
            "bar_color": null,
            "description_width": ""
          }
        },
        "02fd85cf4b354e5190f80a1716ebd58c": {
          "model_module": "@jupyter-widgets/base",
          "model_name": "LayoutModel",
          "model_module_version": "1.2.0",
          "state": {
            "_model_module": "@jupyter-widgets/base",
            "_model_module_version": "1.2.0",
            "_model_name": "LayoutModel",
            "_view_count": null,
            "_view_module": "@jupyter-widgets/base",
            "_view_module_version": "1.2.0",
            "_view_name": "LayoutView",
            "align_content": null,
            "align_items": null,
            "align_self": null,
            "border": null,
            "bottom": null,
            "display": null,
            "flex": null,
            "flex_flow": null,
            "grid_area": null,
            "grid_auto_columns": null,
            "grid_auto_flow": null,
            "grid_auto_rows": null,
            "grid_column": null,
            "grid_gap": null,
            "grid_row": null,
            "grid_template_areas": null,
            "grid_template_columns": null,
            "grid_template_rows": null,
            "height": null,
            "justify_content": null,
            "justify_items": null,
            "left": null,
            "margin": null,
            "max_height": null,
            "max_width": null,
            "min_height": null,
            "min_width": null,
            "object_fit": null,
            "object_position": null,
            "order": null,
            "overflow": null,
            "overflow_x": null,
            "overflow_y": null,
            "padding": null,
            "right": null,
            "top": null,
            "visibility": null,
            "width": null
          }
        },
        "2548716e0b474ff7b75843c1bf4a5906": {
          "model_module": "@jupyter-widgets/controls",
          "model_name": "DescriptionStyleModel",
          "model_module_version": "1.5.0",
          "state": {
            "_model_module": "@jupyter-widgets/controls",
            "_model_module_version": "1.5.0",
            "_model_name": "DescriptionStyleModel",
            "_view_count": null,
            "_view_module": "@jupyter-widgets/base",
            "_view_module_version": "1.2.0",
            "_view_name": "StyleView",
            "description_width": ""
          }
        }
      }
    }
  },
  "cells": [
    {
      "cell_type": "markdown",
      "source": [
        "# 초기 세팅"
      ],
      "metadata": {
        "id": "cdNvme8aKSBP"
      }
    },
    {
      "cell_type": "code",
      "metadata": {
        "id": "P1v9luAfHXdz"
      },
      "source": [
        "import torch\n",
        "import torch.nn as nn\n",
        "import torch.nn.functional as F\n",
        "import torch.optim as optim\n",
        "from torch.utils.data import Dataset, DataLoader\n",
        "\n",
        "import torchvision\n",
        "import torchvision.datasets as datasets\n",
        "import torchvision.transforms as transforms\n",
        "\n",
        "import numpy as np\n",
        "import matplotlib.pyplot as plt\n",
        "plt.style.use('seaborn-white')"
      ],
      "execution_count": 1,
      "outputs": []
    },
    {
      "cell_type": "code",
      "source": [
        "#!pip install torchsummary\n",
        "from torchsummary import summary"
      ],
      "metadata": {
        "id": "D39aCPyTu2Ce"
      },
      "execution_count": 2,
      "outputs": []
    },
    {
      "cell_type": "markdown",
      "metadata": {
        "id": "02LdHlTTSz5L"
      },
      "source": [
        "- 현재 GPU 설정"
      ]
    },
    {
      "cell_type": "code",
      "metadata": {
        "id": "Ybsjn80uSx3X",
        "colab": {
          "base_uri": "https://localhost:8080/"
        },
        "outputId": "5f63eafd-0014-4d71-f8b6-699acd4b02b0"
      },
      "source": [
        "# colab의 runtime-type을 GPU로 설정해서, True가 나오도록 한다.\n",
        "\n",
        "torch.cuda.is_available()"
      ],
      "execution_count": 3,
      "outputs": [
        {
          "output_type": "execute_result",
          "data": {
            "text/plain": [
              "True"
            ]
          },
          "metadata": {},
          "execution_count": 3
        }
      ]
    },
    {
      "cell_type": "code",
      "metadata": {
        "id": "HlPZI5wfDQhv",
        "colab": {
          "base_uri": "https://localhost:8080/"
        },
        "outputId": "708fca31-faf0-4554-e2b3-44438dec828f"
      },
      "source": [
        "use_cuda = torch.cuda.is_available()\n",
        "device = torch.device(\"cuda\" if use_cuda else \"cpu\") # gpu('cuda')가 사용가능하면, gpu를 이용하도록 설정\n",
        "device"
      ],
      "execution_count": 4,
      "outputs": [
        {
          "output_type": "execute_result",
          "data": {
            "text/plain": [
              "device(type='cuda')"
            ]
          },
          "metadata": {},
          "execution_count": 4
        }
      ]
    },
    {
      "cell_type": "markdown",
      "source": [
        "# CIFAR10 분류 모델\n",
        "* R/G/B(3) 이미지 데이터 분류\n",
        "* 32x32 pixel"
      ],
      "metadata": {
        "id": "jqQF4qWUywYV"
      }
    },
    {
      "cell_type": "markdown",
      "metadata": {
        "id": "wD3z029XPFK0"
      },
      "source": [
        "## 전처리 설정"
      ]
    },
    {
      "cell_type": "code",
      "metadata": {
        "id": "4u3-pXWIPCiM"
      },
      "source": [
        "# transform 정의\n",
        "\n",
        "CIFAR_transform = transforms.Compose([transforms.ToTensor(),\n",
        "                                      transforms.Normalize((0.5, 0.5, 0.5), (0.5, 0.5, 0.5))])# r,g,b 데이터임으로, 3개의 인자값 전달"
      ],
      "execution_count": 5,
      "outputs": []
    },
    {
      "cell_type": "markdown",
      "metadata": {
        "id": "a4HzFx19PNYv"
      },
      "source": [
        "## 데이터 로드 및 확인"
      ]
    },
    {
      "cell_type": "code",
      "metadata": {
        "id": "ctstlIt_PM9z",
        "colab": {
          "base_uri": "https://localhost:8080/",
          "height": 104,
          "referenced_widgets": [
            "53be0905caac448a9e3cd35407b7bdce",
            "933afa63f9c643df90483a1ceebffec0",
            "14908597f7fe425ca599cc3ef1906c8c",
            "fb94bbcd1a164d5f8988d522190bca82",
            "f6cf6dbcaf7049a8b09899b5298e4e49",
            "7c07418eb3df476ba2703e346a3850f9",
            "6a2dc136a8c9453eacabf6f06bd1fff2",
            "eae9996c75624bada44020aa0bf52ada",
            "790a4c6a17f94ed3801bf7ca620c7e50",
            "02fd85cf4b354e5190f80a1716ebd58c",
            "2548716e0b474ff7b75843c1bf4a5906"
          ]
        },
        "outputId": "6c597ee4-940b-46ab-e607-fe85d85ce595"
      },
      "source": [
        "# datasets\n",
        "\n",
        "trainset = torchvision.datasets.CIFAR10(root='/content',\n",
        "                                 train=True, download=True,\n",
        "                                 transform=CIFAR_transform)\n",
        "\n",
        "testset = torchvision.datasets.CIFAR10(root='/content',\n",
        "                                 train=False, download=True,\n",
        "                                 transform=CIFAR_transform)"
      ],
      "execution_count": 6,
      "outputs": [
        {
          "output_type": "stream",
          "name": "stdout",
          "text": [
            "Downloading https://www.cs.toronto.edu/~kriz/cifar-10-python.tar.gz to /content/cifar-10-python.tar.gz\n"
          ]
        },
        {
          "output_type": "display_data",
          "data": {
            "text/plain": [
              "  0%|          | 0/170498071 [00:00<?, ?it/s]"
            ],
            "application/vnd.jupyter.widget-view+json": {
              "version_major": 2,
              "version_minor": 0,
              "model_id": "53be0905caac448a9e3cd35407b7bdce"
            }
          },
          "metadata": {}
        },
        {
          "output_type": "stream",
          "name": "stdout",
          "text": [
            "Extracting /content/cifar-10-python.tar.gz to /content\n",
            "Files already downloaded and verified\n"
          ]
        }
      ]
    },
    {
      "cell_type": "code",
      "metadata": {
        "id": "wTkTcictPTyY"
      },
      "source": [
        "# DataLoader\n",
        "\n",
        "# batch-size = 4\n",
        "\n",
        "train_loader = DataLoader(trainset, batch_size=4, shuffle=True, num_workers=2)\n",
        "\n",
        "test_loader = DataLoader(testset, batch_size=4, shuffle=False, num_workers=2)"
      ],
      "execution_count": 7,
      "outputs": []
    },
    {
      "cell_type": "code",
      "source": [
        "# 숫자 label에 해당되는 값\n",
        "\n",
        "class_list = ('plane', 'car', 'bird', 'cat', 'deer',\n",
        "           'dog', 'frog', 'horse', 'ship', 'truck')"
      ],
      "metadata": {
        "id": "-lxqiKWGy-sP"
      },
      "execution_count": 8,
      "outputs": []
    },
    {
      "cell_type": "code",
      "metadata": {
        "id": "_6IsY5CrPZ5e",
        "colab": {
          "base_uri": "https://localhost:8080/",
          "height": 153
        },
        "outputId": "26beddef-1392-4a6b-fd1a-74fa9e7bb9ac"
      },
      "source": [
        "\n",
        "\n",
        "def imshow(img):\n",
        "    img = img / 2 + 0.5\n",
        "    npimg = img.numpy()\n",
        "    plt.imshow(np.transpose(npimg, (1,2,0)))\n",
        "    plt.show()\n",
        "\n",
        "dataiter = iter(train_loader)\n",
        "images, labels = next(dataiter)\n",
        "\n",
        "imshow(torchvision.utils.make_grid(images))\n",
        "print(' '.join('{}\\t'.format(class_list[labels[j]]) for j in range(4)))"
      ],
      "execution_count": 9,
      "outputs": [
        {
          "output_type": "display_data",
          "data": {
            "text/plain": [
              "<Figure size 432x288 with 1 Axes>"
            ],
            "image/png": "[encoded data removed]"
          },
          "metadata": {}
        },
        {
          "output_type": "stream",
          "name": "stdout",
          "text": [
            "cat\t dog\t deer\t bird\t\n"
          ]
        }
      ]
    },
    {
      "cell_type": "markdown",
      "metadata": {
        "id": "hZgB4eq0Pk6c"
      },
      "source": [
        "## 모델 생성"
      ]
    },
    {
      "cell_type": "markdown",
      "source": [
        "* input size = 4 * 3 * 32 * 32\n",
        "* output size = 4 * 10\n",
        "* 모델 조건\n",
        "> * convolution-layer : 2개 이상 사용\n",
        "> * maxpooling-layer : 1개 이상 사용\n",
        "> * fc-layer : 2개 이상 사용\n",
        "> * activation-function 으로 'relu' 사용"
      ],
      "metadata": {
        "id": "aNeryJhl3GhR"
      }
    },
    {
      "cell_type": "code",
      "metadata": {
        "id": "E2OMzoFHPeFZ"
      },
      "source": [
        "class Net(nn.Module):\n",
        "    def __init__(self):\n",
        "        super(Net, self).__init__()\n",
        "\n",
        "        self.conv1 = nn.Conv2d(in_channels=3, out_channels=16, kernel_size=3, stride=1, padding=1)\n",
        "\n",
        "        self.conv2 = nn.Conv2d(16, 16, 3, padding=1)\n",
        "        self.conv3 = nn.Conv2d(16, 32, 3, padding=1)\n",
        "        self.conv4 = nn.Conv2d(32, 32, 3, padding=1)\n",
        "        self.conv5 = nn.Conv2d(32, 64, 3, padding=1)\n",
        "\n",
        "        self.fc1 = nn.Linear(8*8*64, 1000)\n",
        "        self.fc2 = nn.Linear(1000, 10)\n",
        "\n",
        "    def forward(self, x):\n",
        "        x = F.relu(self.conv1(x))\n",
        "        x = F.relu(self.conv2(x))\n",
        "        x = F.max_pool2d(x, (2,2))\n",
        "        x = F.relu(self.conv3(x))\n",
        "        x = F.relu(self.conv4(x))\n",
        "        x = F.max_pool2d(x, (2,2))\n",
        "        x = F.relu(self.conv5(x))\n",
        "\n",
        "\n",
        "        x = x.view(-1, self.num_flat_features(x))\n",
        "        \n",
        "        x = F.relu(self.fc1(x))\n",
        "        x = self.fc2(x)\n",
        "\n",
        "        return x\n",
        "    \n",
        "    def num_flat_features(self, x): # 처음 dim-size을 제외하고, 모두 곱한 값을 반환해준다.\n",
        "        size = x.size()[1:]\n",
        "        num_features = 1\n",
        "        for s in size:\n",
        "            num_features *= s\n",
        "        \n",
        "        return num_features        "
      ],
      "execution_count": 10,
      "outputs": []
    },
    {
      "cell_type": "code",
      "source": [
        "myNet = Net().to(device) # gpu에 모델 저장\n",
        "myNet"
      ],
      "metadata": {
        "id": "P5ZAjWK03iQ_",
        "colab": {
          "base_uri": "https://localhost:8080/"
        },
        "outputId": "0fcbcbcf-ca86-4b20-bb30-df3145fa89b2"
      },
      "execution_count": 11,
      "outputs": [
        {
          "output_type": "execute_result",
          "data": {
            "text/plain": [
              "Net(\n",
              "  (conv1): Conv2d(3, 16, kernel_size=(3, 3), stride=(1, 1), padding=(1, 1))\n",
              "  (conv2): Conv2d(16, 16, kernel_size=(3, 3), stride=(1, 1), padding=(1, 1))\n",
              "  (conv3): Conv2d(16, 32, kernel_size=(3, 3), stride=(1, 1), padding=(1, 1))\n",
              "  (conv4): Conv2d(32, 32, kernel_size=(3, 3), stride=(1, 1), padding=(1, 1))\n",
              "  (conv5): Conv2d(32, 64, kernel_size=(3, 3), stride=(1, 1), padding=(1, 1))\n",
              "  (fc1): Linear(in_features=4096, out_features=1000, bias=True)\n",
              "  (fc2): Linear(in_features=1000, out_features=10, bias=True)\n",
              ")"
            ]
          },
          "metadata": {},
          "execution_count": 11
        }
      ]
    },
    {
      "cell_type": "code",
      "source": [
        "# input; (4 * 3 * 32 * 32)\n",
        "\n",
        "input = images.to(device)\n",
        "input.size()"
      ],
      "metadata": {
        "colab": {
          "base_uri": "https://localhost:8080/"
        },
        "id": "aC1MMHle3jid",
        "outputId": "f646b985-c3f6-408c-b3c0-416e452e628f"
      },
      "execution_count": 12,
      "outputs": [
        {
          "output_type": "execute_result",
          "data": {
            "text/plain": [
              "torch.Size([4, 3, 32, 32])"
            ]
          },
          "metadata": {},
          "execution_count": 12
        }
      ]
    },
    {
      "cell_type": "code",
      "source": [
        "# output; (4 * 10)\n",
        "\n",
        "output = myNet.forward(input)\n",
        "output.size()"
      ],
      "metadata": {
        "colab": {
          "base_uri": "https://localhost:8080/"
        },
        "id": "UYxJZCGo3uPZ",
        "outputId": "f9b744b5-c943-4a84-d60b-d7812d0d059f"
      },
      "execution_count": 13,
      "outputs": [
        {
          "output_type": "execute_result",
          "data": {
            "text/plain": [
              "torch.Size([4, 10])"
            ]
          },
          "metadata": {},
          "execution_count": 13
        }
      ]
    },
    {
      "cell_type": "code",
      "source": [
        "# 모델 구조 확인\n",
        "\n",
        "summary(myNet, input_size=(3, 32, 32), batch_size=4)"
      ],
      "metadata": {
        "id": "OS6RZEuB3wwa",
        "colab": {
          "base_uri": "https://localhost:8080/"
        },
        "outputId": "ab487a88-053b-4632-b149-c686e6b25902"
      },
      "execution_count": 14,
      "outputs": [
        {
          "output_type": "stream",
          "name": "stdout",
          "text": [
            "----------------------------------------------------------------\n",
            "        Layer (type)               Output Shape         Param #\n",
            "================================================================\n",
            "            Conv2d-1            [4, 16, 32, 32]             448\n",
            "            Conv2d-2            [4, 16, 32, 32]           2,320\n",
            "            Conv2d-3            [4, 32, 16, 16]           4,640\n",
            "            Conv2d-4            [4, 32, 16, 16]           9,248\n",
            "            Conv2d-5              [4, 64, 8, 8]          18,496\n",
            "            Linear-6                  [4, 1000]       4,097,000\n",
            "            Linear-7                    [4, 10]          10,010\n",
            "================================================================\n",
            "Total params: 4,142,162\n",
            "Trainable params: 4,142,162\n",
            "Non-trainable params: 0\n",
            "----------------------------------------------------------------\n",
            "Input size (MB): 0.05\n",
            "Forward/backward pass size (MB): 1.66\n",
            "Params size (MB): 15.80\n",
            "Estimated Total Size (MB): 17.50\n",
            "----------------------------------------------------------------\n"
          ]
        }
      ]
    },
    {
      "cell_type": "markdown",
      "metadata": {
        "id": "gogmHThzPrjK"
      },
      "source": [
        "## 손실함수와 옵티마이저"
      ]
    },
    {
      "cell_type": "code",
      "metadata": {
        "id": "X5SzxufZPpel"
      },
      "source": [
        "criterion = criterion = nn.CrossEntropyLoss() # 다중분류; CrossEntropyLoss\n",
        "optimizer = optim.SGD(myNet.parameters(), lr=0.001, momentum=0.9) # SGD; lr=0.001 & momentum=0.9"
      ],
      "execution_count": 15,
      "outputs": []
    },
    {
      "cell_type": "markdown",
      "metadata": {
        "id": "_UnbIcKaPyQv"
      },
      "source": [
        "## 모델 학습"
      ]
    },
    {
      "cell_type": "code",
      "metadata": {
        "id": "jlWiR3LwPuwa",
        "colab": {
          "base_uri": "https://localhost:8080/"
        },
        "outputId": "3b6bf2d7-c7c9-4df5-f05c-13e546afdeae"
      },
      "source": [
        "# epochs = 20\n",
        "\n",
        "for epoch in range(20):\n",
        "    running_loss = 0.0\n",
        "\n",
        "    for i, data in enumerate(train_loader, 0):\n",
        "        inputs, labels = data[0].to(device), data[1].to(device)\n",
        "        \n",
        "        optimizer.zero_grad()                            # 가중치 초기화\n",
        "\n",
        "        outputs = myNet(inputs)\n",
        "        loss = criterion(outputs, labels)\n",
        "        loss.backward()\n",
        "        optimizer.step()\n",
        "\n",
        "        running_loss += loss.item()\n",
        "        if i % 2000 == 1999:\n",
        "            print(\"Epoch: {}, Batch: {}, Loss: {}\".format(epoch+1, i+1, running_loss/2000))\n",
        "            running_loss = 0.0"
      ],
      "execution_count": 17,
      "outputs": [
        {
          "output_type": "stream",
          "name": "stdout",
          "text": [
            "Epoch: 1, Batch: 2000, Loss: 1.5759578919559718\n",
            "Epoch: 1, Batch: 4000, Loss: 1.4709365155100822\n",
            "Epoch: 1, Batch: 6000, Loss: 1.4134980420395733\n",
            "Epoch: 1, Batch: 8000, Loss: 1.3751803921908141\n",
            "Epoch: 1, Batch: 10000, Loss: 1.2917074950262903\n",
            "Epoch: 1, Batch: 12000, Loss: 1.2500902957580984\n",
            "Epoch: 2, Batch: 2000, Loss: 1.1259723880384118\n",
            "Epoch: 2, Batch: 4000, Loss: 1.0862068704981356\n",
            "Epoch: 2, Batch: 6000, Loss: 1.0522715021478943\n",
            "Epoch: 2, Batch: 8000, Loss: 1.015986416579224\n",
            "Epoch: 2, Batch: 10000, Loss: 1.0172192628066987\n",
            "Epoch: 2, Batch: 12000, Loss: 0.9678830942828208\n",
            "Epoch: 3, Batch: 2000, Loss: 0.8231306729281787\n",
            "Epoch: 3, Batch: 4000, Loss: 0.8273864931100979\n",
            "Epoch: 3, Batch: 6000, Loss: 0.8077449088280555\n",
            "Epoch: 3, Batch: 8000, Loss: 0.8062857548343018\n",
            "Epoch: 3, Batch: 10000, Loss: 0.7872399002973107\n",
            "Epoch: 3, Batch: 12000, Loss: 0.795249509270885\n",
            "Epoch: 4, Batch: 2000, Loss: 0.5884587238233798\n",
            "Epoch: 4, Batch: 4000, Loss: 0.6060561066134033\n",
            "Epoch: 4, Batch: 6000, Loss: 0.5998745289001381\n",
            "Epoch: 4, Batch: 8000, Loss: 0.6293111195458914\n",
            "Epoch: 4, Batch: 10000, Loss: 0.6172649288519751\n",
            "Epoch: 4, Batch: 12000, Loss: 0.6385029805314262\n",
            "Epoch: 5, Batch: 2000, Loss: 0.3908082189181941\n",
            "Epoch: 5, Batch: 4000, Loss: 0.409201491243075\n",
            "Epoch: 5, Batch: 6000, Loss: 0.43026845966064864\n",
            "Epoch: 5, Batch: 8000, Loss: 0.4571476331526865\n",
            "Epoch: 5, Batch: 10000, Loss: 0.4898870679596148\n",
            "Epoch: 5, Batch: 12000, Loss: 0.4673410426069522\n",
            "Epoch: 6, Batch: 2000, Loss: 0.24237458271275625\n",
            "Epoch: 6, Batch: 4000, Loss: 0.2845841382824141\n",
            "Epoch: 6, Batch: 6000, Loss: 0.29263206205714776\n",
            "Epoch: 6, Batch: 8000, Loss: 0.3086329514896588\n",
            "Epoch: 6, Batch: 10000, Loss: 0.35035975689130827\n",
            "Epoch: 6, Batch: 12000, Loss: 0.3307408410779399\n",
            "Epoch: 7, Batch: 2000, Loss: 0.16447392815649686\n",
            "Epoch: 7, Batch: 4000, Loss: 0.19178423611397816\n",
            "Epoch: 7, Batch: 6000, Loss: 0.22344002869788548\n",
            "Epoch: 7, Batch: 8000, Loss: 0.2295060746060533\n",
            "Epoch: 7, Batch: 10000, Loss: 0.25249498031238216\n",
            "Epoch: 7, Batch: 12000, Loss: 0.26311492649720436\n",
            "Epoch: 8, Batch: 2000, Loss: 0.1232711365662641\n",
            "Epoch: 8, Batch: 4000, Loss: 0.15328329287104747\n",
            "Epoch: 8, Batch: 6000, Loss: 0.17293325513202382\n",
            "Epoch: 8, Batch: 8000, Loss: 0.18605380884973907\n",
            "Epoch: 8, Batch: 10000, Loss: 0.21537678055411055\n",
            "Epoch: 8, Batch: 12000, Loss: 0.2087256661876225\n",
            "Epoch: 9, Batch: 2000, Loss: 0.11822534848693525\n",
            "Epoch: 9, Batch: 4000, Loss: 0.16102174191868823\n",
            "Epoch: 9, Batch: 6000, Loss: 0.15240904856874654\n",
            "Epoch: 9, Batch: 8000, Loss: 0.1692777038201166\n",
            "Epoch: 9, Batch: 10000, Loss: 0.17031016384153044\n",
            "Epoch: 9, Batch: 12000, Loss: 0.1851973545541674\n",
            "Epoch: 10, Batch: 2000, Loss: 0.10384094485590094\n",
            "Epoch: 10, Batch: 4000, Loss: 0.11998902804859546\n",
            "Epoch: 10, Batch: 6000, Loss: 0.13745866520371278\n",
            "Epoch: 10, Batch: 8000, Loss: 0.1394316239050012\n",
            "Epoch: 10, Batch: 10000, Loss: 0.14538698086351143\n",
            "Epoch: 10, Batch: 12000, Loss: 0.15428426881059376\n",
            "Epoch: 11, Batch: 2000, Loss: 0.09062072164342293\n",
            "Epoch: 11, Batch: 4000, Loss: 0.12410886286064371\n",
            "Epoch: 11, Batch: 6000, Loss: 0.12855447471923573\n",
            "Epoch: 11, Batch: 8000, Loss: 0.13124232552643778\n",
            "Epoch: 11, Batch: 10000, Loss: 0.1299181165514475\n",
            "Epoch: 11, Batch: 12000, Loss: 0.15686603375544486\n",
            "Epoch: 12, Batch: 2000, Loss: 0.06872908424992942\n",
            "Epoch: 12, Batch: 4000, Loss: 0.09845253952271836\n",
            "Epoch: 12, Batch: 6000, Loss: 0.08948190440089993\n",
            "Epoch: 12, Batch: 8000, Loss: 0.11447607449344235\n",
            "Epoch: 12, Batch: 10000, Loss: 0.13126240304388537\n",
            "Epoch: 12, Batch: 12000, Loss: 0.1339135650168496\n",
            "Epoch: 13, Batch: 2000, Loss: 0.08013437588255044\n",
            "Epoch: 13, Batch: 4000, Loss: 0.07951519294145888\n",
            "Epoch: 13, Batch: 6000, Loss: 0.09300658262751871\n",
            "Epoch: 13, Batch: 8000, Loss: 0.09627137328471172\n",
            "Epoch: 13, Batch: 10000, Loss: 0.14263848009367372\n",
            "Epoch: 13, Batch: 12000, Loss: 0.12624219946540832\n",
            "Epoch: 14, Batch: 2000, Loss: 0.06766186988660422\n",
            "Epoch: 14, Batch: 4000, Loss: 0.10314716711469027\n",
            "Epoch: 14, Batch: 6000, Loss: 0.1083056539094429\n",
            "Epoch: 14, Batch: 8000, Loss: 0.08621807707597498\n",
            "Epoch: 14, Batch: 10000, Loss: 0.09326836086938653\n",
            "Epoch: 14, Batch: 12000, Loss: 0.1127849345208318\n",
            "Epoch: 15, Batch: 2000, Loss: 0.06245713243427071\n",
            "Epoch: 15, Batch: 4000, Loss: 0.06919787940850415\n",
            "Epoch: 15, Batch: 6000, Loss: 0.08924650053351653\n",
            "Epoch: 15, Batch: 8000, Loss: 0.11361698830614629\n",
            "Epoch: 15, Batch: 10000, Loss: 0.11589003677774999\n",
            "Epoch: 15, Batch: 12000, Loss: 0.10270491675882648\n",
            "Epoch: 16, Batch: 2000, Loss: 0.051272989293292326\n",
            "Epoch: 16, Batch: 4000, Loss: 0.054181424818497435\n",
            "Epoch: 16, Batch: 6000, Loss: 0.1056313663095801\n",
            "Epoch: 16, Batch: 8000, Loss: 0.09143549173371605\n",
            "Epoch: 16, Batch: 10000, Loss: 0.10998572760812787\n",
            "Epoch: 16, Batch: 12000, Loss: 0.11057338654264154\n",
            "Epoch: 17, Batch: 2000, Loss: 0.05721519454846707\n",
            "Epoch: 17, Batch: 4000, Loss: 0.09395070075183762\n",
            "Epoch: 17, Batch: 6000, Loss: 0.10369869342567076\n",
            "Epoch: 17, Batch: 8000, Loss: 0.09242155837846354\n",
            "Epoch: 17, Batch: 10000, Loss: 0.09889609907768643\n",
            "Epoch: 17, Batch: 12000, Loss: 0.1297423731353056\n",
            "Epoch: 18, Batch: 2000, Loss: 0.05723429581661607\n",
            "Epoch: 18, Batch: 4000, Loss: 0.0863986939168277\n",
            "Epoch: 18, Batch: 6000, Loss: 0.08311079151908154\n",
            "Epoch: 18, Batch: 8000, Loss: 0.11608240981332889\n",
            "Epoch: 18, Batch: 10000, Loss: 0.08736040257632646\n",
            "Epoch: 18, Batch: 12000, Loss: 0.1068453661919368\n",
            "Epoch: 19, Batch: 2000, Loss: 0.07026802607406438\n",
            "Epoch: 19, Batch: 4000, Loss: 0.06770688258503\n",
            "Epoch: 19, Batch: 6000, Loss: 0.07373467157965681\n",
            "Epoch: 19, Batch: 8000, Loss: 0.10692482916300597\n",
            "Epoch: 19, Batch: 10000, Loss: 0.11216516640044576\n",
            "Epoch: 19, Batch: 12000, Loss: 0.0894331934288454\n",
            "Epoch: 20, Batch: 2000, Loss: 0.06311958151183444\n",
            "Epoch: 20, Batch: 4000, Loss: 0.05697625817151093\n",
            "Epoch: 20, Batch: 6000, Loss: 0.10801738780360493\n",
            "Epoch: 20, Batch: 8000, Loss: 0.09917270291682743\n",
            "Epoch: 20, Batch: 10000, Loss: 0.09187329101610567\n",
            "Epoch: 20, Batch: 12000, Loss: 0.12878319463892174\n"
          ]
        }
      ]
    },
    {
      "cell_type": "markdown",
      "metadata": {
        "id": "NqYnwxJ3P8Gb"
      },
      "source": [
        "## 모델의 저장 및 로드"
      ]
    },
    {
      "cell_type": "code",
      "metadata": {
        "id": "keqtypx1QY6t",
        "colab": {
          "base_uri": "https://localhost:8080/",
          "height": 153
        },
        "outputId": "b24677d8-df72-4cd3-83df-6944017fcbf5"
      },
      "source": [
        "# 잘 학습된 모델인지 간단히 한 batch에 대해서 확인\n",
        "\n",
        "dataiter = iter(test_loader)\n",
        "images, labels = next(dataiter)\n",
        "\n",
        "imshow(torchvision.utils.make_grid(images))\n",
        "print(' '.join('\\t{}'.format(class_list[labels[j]]) for j in range(4))) # batch-size = 4"
      ],
      "execution_count": 18,
      "outputs": [
        {
          "output_type": "display_data",
          "data": {
            "text/plain": [
              "<Figure size 432x288 with 1 Axes>"
            ],
            "image/png": "[encoded data removed]"
          },
          "metadata": {}
        },
        {
          "output_type": "stream",
          "name": "stdout",
          "text": [
            "\tcat \tship \tship \tplane\n"
          ]
        }
      ]
    },
    {
      "cell_type": "code",
      "metadata": {
        "id": "z6UYtCT4P3Tj"
      },
      "source": [
        "# 저장\n",
        "\n",
        "PATH = './cifar_net.pth'\n",
        "torch.save(myNet.state_dict(), PATH)"
      ],
      "execution_count": 19,
      "outputs": []
    },
    {
      "cell_type": "code",
      "metadata": {
        "id": "FfsXzP9NQbMg",
        "colab": {
          "base_uri": "https://localhost:8080/"
        },
        "outputId": "3997beb2-ecdc-41b7-c464-f83a804008d9"
      },
      "source": [
        "# 불러오기\n",
        "\n",
        "Loaded_Net = Net().to(device)\n",
        "Loaded_Net.load_state_dict(torch.load(PATH))"
      ],
      "execution_count": 20,
      "outputs": [
        {
          "output_type": "execute_result",
          "data": {
            "text/plain": [
              "<All keys matched successfully>"
            ]
          },
          "metadata": {},
          "execution_count": 20
        }
      ]
    },
    {
      "cell_type": "markdown",
      "metadata": {
        "id": "1dvGiVkrQ2cf"
      },
      "source": [
        "## 모델 테스트\n",
        "* 조건\n",
        "> 전체 accuracy가 70% 이상이어야한다.<br>\n",
        "> 각각의 class에 대한 accuracy는 60% 이상이어야한다."
      ]
    },
    {
      "cell_type": "code",
      "metadata": {
        "id": "ajGFbhDvQtlp",
        "colab": {
          "base_uri": "https://localhost:8080/"
        },
        "outputId": "02582973-1bfa-47fe-aaf0-abeee1ec9ec9"
      },
      "source": [
        "# 전체 accuracy 확인; 70% 이상 성능값\n",
        "\n",
        "correct = 0\n",
        "total = 0\n",
        "\n",
        "with torch.no_grad():\n",
        "    for data in test_loader:\n",
        "        images, labels = data[0].to(device), data[1].to(device)\n",
        "        outputs = myNet(images)\n",
        "        _, predicted = torch.max(outputs.data, axis=1)  # 확률이 가장 큰 것의 label을 최종 예측값으로 선택\n",
        "        total += labels.size(0) # 전체 갯수\n",
        "        correct += (predicted == labels).sum().item()   # 맞춘 갯수\n",
        "    \n",
        "    print(100 * correct / total)"
      ],
      "execution_count": 27,
      "outputs": [
        {
          "output_type": "stream",
          "name": "stdout",
          "text": [
            "67.8\n"
          ]
        }
      ]
    },
    {
      "cell_type": "markdown",
      "metadata": {
        "id": "trWVf5YvRYI0"
      },
      "source": [
        "- 어떤 것을 잘 분류했고, 잘 못했는지 확인"
      ]
    },
    {
      "cell_type": "code",
      "metadata": {
        "id": "P9p7QKhDQzpC",
        "colab": {
          "base_uri": "https://localhost:8080/"
        },
        "outputId": "e9f1297c-700e-4253-94e2-88a8df2f4c11"
      },
      "source": [
        "# 각각의 class에 대한 accuracy 확인; 각각의 class에 대한 60% 이상 성능값\n",
        "\n",
        "class_correct = list(0. for i in range(10))\n",
        "class_total = list(0. for i in range(10))\n",
        "\n",
        "with torch.no_grad():\n",
        "    for data in test_loader:\n",
        "        images, labels = data[0].to(device), data[1].to(device)\n",
        "        outputs = Loaded_Net(images)\n",
        "        _, predicted = torch.max(outputs.data, axis=1)\n",
        "        c = (predicted == labels).squeeze()\n",
        "        for i in range(4): # 각각의 batch(batch-size : 4) 마다 계싼\n",
        "            label = labels[i]\n",
        "            class_correct[label] += c[i].item()\n",
        "            class_total[label] += 1\n",
        "\n",
        "for i in range(10):\n",
        "    print(\"Accuracy of {}: {}%\".format(class_list[i], 100 * class_correct[i] / class_total[i]))"
      ],
      "execution_count": 26,
      "outputs": [
        {
          "output_type": "stream",
          "name": "stdout",
          "text": [
            "Accuracy of plane: 76.3%\n",
            "Accuracy of car: 79.5%\n",
            "Accuracy of bird: 50.8%\n",
            "Accuracy of cat: 50.3%\n",
            "Accuracy of deer: 57.0%\n",
            "Accuracy of dog: 59.3%\n",
            "Accuracy of frog: 72.5%\n",
            "Accuracy of horse: 75.1%\n",
            "Accuracy of ship: 76.2%\n",
            "Accuracy of truck: 81.0%\n"
          ]
        }
      ]
    },
    {
      "cell_type": "code",
      "source": [],
      "metadata": {
        "id": "d79fLwYkT8vc"
      },
      "execution_count": 64,
      "outputs": []
    }
  ]
}