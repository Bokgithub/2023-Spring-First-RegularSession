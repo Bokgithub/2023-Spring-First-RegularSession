{
  "nbformat": 4,
  "nbformat_minor": 0,
  "metadata": {
    "colab": {
      "provenance": []
    },
    "kernelspec": {
      "name": "python3",
      "display_name": "Python 3"
    },
    "accelerator": "GPU",
    "gpuClass": "standard",
    "widgets": {
      "application/vnd.jupyter.widget-state+json": {
        "ff2260b187b3478788b86d467e1a1085": {
          "model_module": "@jupyter-widgets/controls",
          "model_name": "HBoxModel",
          "model_module_version": "1.5.0",
          "state": {
            "_dom_classes": [],
            "_model_module": "@jupyter-widgets/controls",
            "_model_module_version": "1.5.0",
            "_model_name": "HBoxModel",
            "_view_count": null,
            "_view_module": "@jupyter-widgets/controls",
            "_view_module_version": "1.5.0",
            "_view_name": "HBoxView",
            "box_style": "",
            "children": [
              "IPY_MODEL_15847030703f4dd7a899abdeef7b9b3f",
              "IPY_MODEL_2ca445035c3c48b0a9dd7f7558557601",
              "IPY_MODEL_fc6211f0b94b41afaef6f5764d4bbcff"
            ],
            "layout": "IPY_MODEL_1197a96dbc37430894ede3a7c3f352e8"
          }
        },
        "15847030703f4dd7a899abdeef7b9b3f": {
          "model_module": "@jupyter-widgets/controls",
          "model_name": "HTMLModel",
          "model_module_version": "1.5.0",
          "state": {
            "_dom_classes": [],
            "_model_module": "@jupyter-widgets/controls",
            "_model_module_version": "1.5.0",
            "_model_name": "HTMLModel",
            "_view_count": null,
            "_view_module": "@jupyter-widgets/controls",
            "_view_module_version": "1.5.0",
            "_view_name": "HTMLView",
            "description": "",
            "description_tooltip": null,
            "layout": "IPY_MODEL_95e3236d5d5c41038554e0b27abde3ce",
            "placeholder": "​",
            "style": "IPY_MODEL_c227893af2cf47a1ab2407afe4cac860",
            "value": "100%"
          }
        },
        "2ca445035c3c48b0a9dd7f7558557601": {
          "model_module": "@jupyter-widgets/controls",
          "model_name": "FloatProgressModel",
          "model_module_version": "1.5.0",
          "state": {
            "_dom_classes": [],
            "_model_module": "@jupyter-widgets/controls",
            "_model_module_version": "1.5.0",
            "_model_name": "FloatProgressModel",
            "_view_count": null,
            "_view_module": "@jupyter-widgets/controls",
            "_view_module_version": "1.5.0",
            "_view_name": "ProgressView",
            "bar_style": "success",
            "description": "",
            "description_tooltip": null,
            "layout": "IPY_MODEL_cce76cd90d484c199a155424ea367c84",
            "max": 170498071,
            "min": 0,
            "orientation": "horizontal",
            "style": "IPY_MODEL_a576189249d6499385e4276eca69ece3",
            "value": 170498071
          }
        },
        "fc6211f0b94b41afaef6f5764d4bbcff": {
          "model_module": "@jupyter-widgets/controls",
          "model_name": "HTMLModel",
          "model_module_version": "1.5.0",
          "state": {
            "_dom_classes": [],
            "_model_module": "@jupyter-widgets/controls",
            "_model_module_version": "1.5.0",
            "_model_name": "HTMLModel",
            "_view_count": null,
            "_view_module": "@jupyter-widgets/controls",
            "_view_module_version": "1.5.0",
            "_view_name": "HTMLView",
            "description": "",
            "description_tooltip": null,
            "layout": "IPY_MODEL_2fef484af0bc4f0bb3ab17b56c6d1cdb",
            "placeholder": "​",
            "style": "IPY_MODEL_97196b8c8e3945e48319e30dc3cc80e4",
            "value": " 170498071/170498071 [00:05&lt;00:00, 32568799.09it/s]"
          }
        },
        "1197a96dbc37430894ede3a7c3f352e8": {
          "model_module": "@jupyter-widgets/base",
          "model_name": "LayoutModel",
          "model_module_version": "1.2.0",
          "state": {
            "_model_module": "@jupyter-widgets/base",
            "_model_module_version": "1.2.0",
            "_model_name": "LayoutModel",
            "_view_count": null,
            "_view_module": "@jupyter-widgets/base",
            "_view_module_version": "1.2.0",
            "_view_name": "LayoutView",
            "align_content": null,
            "align_items": null,
            "align_self": null,
            "border": null,
            "bottom": null,
            "display": null,
            "flex": null,
            "flex_flow": null,
            "grid_area": null,
            "grid_auto_columns": null,
            "grid_auto_flow": null,
            "grid_auto_rows": null,
            "grid_column": null,
            "grid_gap": null,
            "grid_row": null,
            "grid_template_areas": null,
            "grid_template_columns": null,
            "grid_template_rows": null,
            "height": null,
            "justify_content": null,
            "justify_items": null,
            "left": null,
            "margin": null,
            "max_height": null,
            "max_width": null,
            "min_height": null,
            "min_width": null,
            "object_fit": null,
            "object_position": null,
            "order": null,
            "overflow": null,
            "overflow_x": null,
            "overflow_y": null,
            "padding": null,
            "right": null,
            "top": null,
            "visibility": null,
            "width": null
          }
        },
        "95e3236d5d5c41038554e0b27abde3ce": {
          "model_module": "@jupyter-widgets/base",
          "model_name": "LayoutModel",
          "model_module_version": "1.2.0",
          "state": {
            "_model_module": "@jupyter-widgets/base",
            "_model_module_version": "1.2.0",
            "_model_name": "LayoutModel",
            "_view_count": null,
            "_view_module": "@jupyter-widgets/base",
            "_view_module_version": "1.2.0",
            "_view_name": "LayoutView",
            "align_content": null,
            "align_items": null,
            "align_self": null,
            "border": null,
            "bottom": null,
            "display": null,
            "flex": null,
            "flex_flow": null,
            "grid_area": null,
            "grid_auto_columns": null,
            "grid_auto_flow": null,
            "grid_auto_rows": null,
            "grid_column": null,
            "grid_gap": null,
            "grid_row": null,
            "grid_template_areas": null,
            "grid_template_columns": null,
            "grid_template_rows": null,
            "height": null,
            "justify_content": null,
            "justify_items": null,
            "left": null,
            "margin": null,
            "max_height": null,
            "max_width": null,
            "min_height": null,
            "min_width": null,
            "object_fit": null,
            "object_position": null,
            "order": null,
            "overflow": null,
            "overflow_x": null,
            "overflow_y": null,
            "padding": null,
            "right": null,
            "top": null,
            "visibility": null,
            "width": null
          }
        },
        "c227893af2cf47a1ab2407afe4cac860": {
          "model_module": "@jupyter-widgets/controls",
          "model_name": "DescriptionStyleModel",
          "model_module_version": "1.5.0",
          "state": {
            "_model_module": "@jupyter-widgets/controls",
            "_model_module_version": "1.5.0",
            "_model_name": "DescriptionStyleModel",
            "_view_count": null,
            "_view_module": "@jupyter-widgets/base",
            "_view_module_version": "1.2.0",
            "_view_name": "StyleView",
            "description_width": ""
          }
        },
        "cce76cd90d484c199a155424ea367c84": {
          "model_module": "@jupyter-widgets/base",
          "model_name": "LayoutModel",
          "model_module_version": "1.2.0",
          "state": {
            "_model_module": "@jupyter-widgets/base",
            "_model_module_version": "1.2.0",
            "_model_name": "LayoutModel",
            "_view_count": null,
            "_view_module": "@jupyter-widgets/base",
            "_view_module_version": "1.2.0",
            "_view_name": "LayoutView",
            "align_content": null,
            "align_items": null,
            "align_self": null,
            "border": null,
            "bottom": null,
            "display": null,
            "flex": null,
            "flex_flow": null,
            "grid_area": null,
            "grid_auto_columns": null,
            "grid_auto_flow": null,
            "grid_auto_rows": null,
            "grid_column": null,
            "grid_gap": null,
            "grid_row": null,
            "grid_template_areas": null,
            "grid_template_columns": null,
            "grid_template_rows": null,
            "height": null,
            "justify_content": null,
            "justify_items": null,
            "left": null,
            "margin": null,
            "max_height": null,
            "max_width": null,
            "min_height": null,
            "min_width": null,
            "object_fit": null,
            "object_position": null,
            "order": null,
            "overflow": null,
            "overflow_x": null,
            "overflow_y": null,
            "padding": null,
            "right": null,
            "top": null,
            "visibility": null,
            "width": null
          }
        },
        "a576189249d6499385e4276eca69ece3": {
          "model_module": "@jupyter-widgets/controls",
          "model_name": "ProgressStyleModel",
          "model_module_version": "1.5.0",
          "state": {
            "_model_module": "@jupyter-widgets/controls",
            "_model_module_version": "1.5.0",
            "_model_name": "ProgressStyleModel",
            "_view_count": null,
            "_view_module": "@jupyter-widgets/base",
            "_view_module_version": "1.2.0",
            "_view_name": "StyleView",
            "bar_color": null,
            "description_width": ""
          }
        },
        "2fef484af0bc4f0bb3ab17b56c6d1cdb": {
          "model_module": "@jupyter-widgets/base",
          "model_name": "LayoutModel",
          "model_module_version": "1.2.0",
          "state": {
            "_model_module": "@jupyter-widgets/base",
            "_model_module_version": "1.2.0",
            "_model_name": "LayoutModel",
            "_view_count": null,
            "_view_module": "@jupyter-widgets/base",
            "_view_module_version": "1.2.0",
            "_view_name": "LayoutView",
            "align_content": null,
            "align_items": null,
            "align_self": null,
            "border": null,
            "bottom": null,
            "display": null,
            "flex": null,
            "flex_flow": null,
            "grid_area": null,
            "grid_auto_columns": null,
            "grid_auto_flow": null,
            "grid_auto_rows": null,
            "grid_column": null,
            "grid_gap": null,
            "grid_row": null,
            "grid_template_areas": null,
            "grid_template_columns": null,
            "grid_template_rows": null,
            "height": null,
            "justify_content": null,
            "justify_items": null,
            "left": null,
            "margin": null,
            "max_height": null,
            "max_width": null,
            "min_height": null,
            "min_width": null,
            "object_fit": null,
            "object_position": null,
            "order": null,
            "overflow": null,
            "overflow_x": null,
            "overflow_y": null,
            "padding": null,
            "right": null,
            "top": null,
            "visibility": null,
            "width": null
          }
        },
        "97196b8c8e3945e48319e30dc3cc80e4": {
          "model_module": "@jupyter-widgets/controls",
          "model_name": "DescriptionStyleModel",
          "model_module_version": "1.5.0",
          "state": {
            "_model_module": "@jupyter-widgets/controls",
            "_model_module_version": "1.5.0",
            "_model_name": "DescriptionStyleModel",
            "_view_count": null,
            "_view_module": "@jupyter-widgets/base",
            "_view_module_version": "1.2.0",
            "_view_name": "StyleView",
            "description_width": ""
          }
        }
      }
    }
  },
  "cells": [
    {
      "cell_type": "markdown",
      "source": [
        "# 초기 세팅"
      ],
      "metadata": {
        "id": "cdNvme8aKSBP"
      }
    },
    {
      "cell_type": "code",
      "metadata": {
        "id": "P1v9luAfHXdz"
      },
      "source": [
        "import torch\n",
        "import torch.nn as nn\n",
        "import torch.nn.functional as F\n",
        "import torch.optim as optim\n",
        "from torch.utils.data import Dataset, DataLoader\n",
        "\n",
        "import torchvision\n",
        "import torchvision.datasets as datasets\n",
        "import torchvision.transforms as transforms\n",
        "\n",
        "import numpy as np\n",
        "import matplotlib.pyplot as plt\n",
        "plt.style.use('seaborn-white')"
      ],
      "execution_count": 1,
      "outputs": []
    },
    {
      "cell_type": "code",
      "source": [
        "!pip install torchsummary\n",
        "from torchsummary import summary"
      ],
      "metadata": {
        "colab": {
          "base_uri": "https://localhost:8080/"
        },
        "id": "D39aCPyTu2Ce",
        "outputId": "3d09b7fc-e492-4dd3-fcf5-aa5759b20077"
      },
      "execution_count": 2,
      "outputs": [
        {
          "output_type": "stream",
          "name": "stdout",
          "text": [
            "Looking in indexes: https://pypi.org/simple, https://us-python.pkg.dev/colab-wheels/public/simple/\n",
            "Requirement already satisfied: torchsummary in /usr/local/lib/python3.8/dist-packages (1.5.1)\n"
          ]
        }
      ]
    },
    {
      "cell_type": "markdown",
      "metadata": {
        "id": "02LdHlTTSz5L"
      },
      "source": [
        "- 현재 GPU 설정"
      ]
    },
    {
      "cell_type": "code",
      "metadata": {
        "id": "Ybsjn80uSx3X",
        "colab": {
          "base_uri": "https://localhost:8080/"
        },
        "outputId": "d058fea5-5517-404a-ddc6-75d7e36c1693"
      },
      "source": [
        "# colab의 runtime-type을 GPU로 설정해서, True가 나오도록 한다.\n",
        "\n",
        "#...현재 colab의 사용량 제한으로 인해 gpu 연결이 불가능 하다고 나옵니다.... ㅠ\n",
        "\n",
        "torch.cuda.is_available()"
      ],
      "execution_count": 3,
      "outputs": [
        {
          "output_type": "execute_result",
          "data": {
            "text/plain": [
              "False"
            ]
          },
          "metadata": {},
          "execution_count": 3
        }
      ]
    },
    {
      "cell_type": "code",
      "metadata": {
        "id": "HlPZI5wfDQhv",
        "colab": {
          "base_uri": "https://localhost:8080/"
        },
        "outputId": "e4c75b08-cce5-4484-9f34-1ee731a4f08e"
      },
      "source": [
        "device = torch.device('cuda' if torch.cuda.is_available() else 'cpu')\n",
        "device"
      ],
      "execution_count": 4,
      "outputs": [
        {
          "output_type": "execute_result",
          "data": {
            "text/plain": [
              "device(type='cpu')"
            ]
          },
          "metadata": {},
          "execution_count": 4
        }
      ]
    },
    {
      "cell_type": "markdown",
      "source": [
        "# CIFAR10 분류 모델\n",
        "* R/G/B(3) 이미지 데이터 분류\n",
        "* 32x32 pixel"
      ],
      "metadata": {
        "id": "jqQF4qWUywYV"
      }
    },
    {
      "cell_type": "markdown",
      "metadata": {
        "id": "wD3z029XPFK0"
      },
      "source": [
        "## 전처리 설정"
      ]
    },
    {
      "cell_type": "code",
      "metadata": {
        "id": "4u3-pXWIPCiM"
      },
      "source": [
        "# transform 정의\n",
        "\n",
        "CIFAR_transform = transforms.Compose([transforms.ToTensor(), # tensor로 펴준다.\n",
        "                              \n",
        "\n",
        "\n",
        "                                      transforms.Normalize((0.5, 0.5, 0.5), (0.5, 0.5, 0.5))]) # r,g,b 데이터임으로, 3개의 인자값 전달"
      ],
      "execution_count": 5,
      "outputs": []
    },
    {
      "cell_type": "markdown",
      "metadata": {
        "id": "a4HzFx19PNYv"
      },
      "source": [
        "## 데이터 로드 및 확인"
      ]
    },
    {
      "cell_type": "code",
      "metadata": {
        "id": "ctstlIt_PM9z",
        "colab": {
          "base_uri": "https://localhost:8080/",
          "height": 104,
          "referenced_widgets": [
            "ff2260b187b3478788b86d467e1a1085",
            "15847030703f4dd7a899abdeef7b9b3f",
            "2ca445035c3c48b0a9dd7f7558557601",
            "fc6211f0b94b41afaef6f5764d4bbcff",
            "1197a96dbc37430894ede3a7c3f352e8",
            "95e3236d5d5c41038554e0b27abde3ce",
            "c227893af2cf47a1ab2407afe4cac860",
            "cce76cd90d484c199a155424ea367c84",
            "a576189249d6499385e4276eca69ece3",
            "2fef484af0bc4f0bb3ab17b56c6d1cdb",
            "97196b8c8e3945e48319e30dc3cc80e4"
          ]
        },
        "outputId": "e7a302dc-4f69-46f0-87fb-732ca9ba48e2"
      },
      "source": [
        "# datasets\n",
        "\n",
        "trainset = torchvision.datasets.CIFAR10(root='/content',\n",
        "                                 train=True, download=True,\n",
        "                                 transform=CIFAR_transform)\n",
        "\n",
        "testset = torchvision.datasets.CIFAR10(root='/content',\n",
        "                                 train=False, download=True,\n",
        "                                 transform=CIFAR_transform)"
      ],
      "execution_count": 6,
      "outputs": [
        {
          "output_type": "stream",
          "name": "stdout",
          "text": [
            "Downloading https://www.cs.toronto.edu/~kriz/cifar-10-python.tar.gz to /content/cifar-10-python.tar.gz\n"
          ]
        },
        {
          "output_type": "display_data",
          "data": {
            "text/plain": [
              "  0%|          | 0/170498071 [00:00<?, ?it/s]"
            ],
            "application/vnd.jupyter.widget-view+json": {
              "version_major": 2,
              "version_minor": 0,
              "model_id": "ff2260b187b3478788b86d467e1a1085"
            }
          },
          "metadata": {}
        },
        {
          "output_type": "stream",
          "name": "stdout",
          "text": [
            "Extracting /content/cifar-10-python.tar.gz to /content\n",
            "Files already downloaded and verified\n"
          ]
        }
      ]
    },
    {
      "cell_type": "code",
      "metadata": {
        "id": "wTkTcictPTyY"
      },
      "source": [
        "# DataLoader\n",
        "\n",
        "# batch-size = 4\n",
        "\n",
        "train_loader =  DataLoader(trainset, batch_size=4, shuffle=True, num_workers=2)\n",
        "test_loader =  DataLoader(testset, batch_size=4, shuffle=False, num_workers=2)"
      ],
      "execution_count": 7,
      "outputs": []
    },
    {
      "cell_type": "code",
      "source": [
        "# 숫자 label에 해당되는 값\n",
        "\n",
        "class_list = ('plane', 'car', 'bird', 'cat', 'deer',\n",
        "           'dog', 'frog', 'horse', 'ship', 'truck')"
      ],
      "metadata": {
        "id": "-lxqiKWGy-sP"
      },
      "execution_count": 8,
      "outputs": []
    },
    {
      "cell_type": "code",
      "metadata": {
        "id": "_6IsY5CrPZ5e",
        "colab": {
          "base_uri": "https://localhost:8080/",
          "height": 153
        },
        "outputId": "6f7e0398-9c96-4d49-ba25-1e829022f86e"
      },
      "source": [
        "def imshow(img):\n",
        "    img = img / 2 + 0.5\n",
        "    npimg = img.numpy()\n",
        "    plt.imshow(np.transpose(npimg, (1,2,0)))\n",
        "    plt.show()\n",
        "\n",
        "dataiter = iter(train_loader)\n",
        "images, labels = next(dataiter)\n",
        "\n",
        "imshow(torchvision.utils.make_grid(images))\n",
        "print(' '.join('{}\\t'.format(class_list[labels[j]]) for j in range(4)))"
      ],
      "execution_count": 9,
      "outputs": [
        {
          "output_type": "display_data",
          "data": {
            "text/plain": [
              "<Figure size 432x288 with 1 Axes>"
            ],
            "image/png": "[encoded data removed]"
          },
          "metadata": {}
        },
        {
          "output_type": "stream",
          "name": "stdout",
          "text": [
            "horse\t cat\t deer\t horse\t\n"
          ]
        }
      ]
    },
    {
      "cell_type": "markdown",
      "metadata": {
        "id": "hZgB4eq0Pk6c"
      },
      "source": [
        "## 모델 생성"
      ]
    },
    {
      "cell_type": "markdown",
      "source": [
        "* input size = 4 * 3 * 32 * 32\n",
        "* output size = 4 * 10\n",
        "* 모델 조건\n",
        "> * convolution-layer : 2개 이상 사용\n",
        "> * maxpooling-layer : 1개 이상 사용\n",
        "> * fc-layer : 2개 이상 사용\n",
        "> * activation-function 으로 'relu' 사용"
      ],
      "metadata": {
        "id": "aNeryJhl3GhR"
      }
    },
    {
      "cell_type": "code",
      "metadata": {
        "id": "E2OMzoFHPeFZ"
      },
      "source": [
        "class Net(nn.Module):\n",
        "     def __init__(self):\n",
        "        super(Net, self).__init__()\n",
        "        \n",
        "        self.conv1 = nn.Conv2d(in_channels=3, out_channels=6, kernel_size=3, stride=1, padding=0)\n",
        "        # in-channels = 3\n",
        "        # out-channels = 6\n",
        "        # kernel_size / filter-size = 3x3 -> f=3\n",
        "        # stride = 1(default) -> s=1\n",
        "        # padding = 0(default) -> p=0\n",
        "        # input-data pixel size = 32x32 -> n=32\n",
        "        # (n-f+2p)/s + 1 = new n\n",
        "        # (32-3+2x0)/1 + 1 = 30\n",
        "        self.maxpool1 = nn.MaxPool2d(2)\n",
        "        # maxpool : n=30 -> 15\n",
        "\n",
        "        self.conv2 = nn.Conv2d(6, 10, 3, stride = 2, padding = 1)\n",
        "        # in-channels = 6 <- 이전것의 out-channels\n",
        "        # out-channels = 10\n",
        "        # kernel_size / filter-size = 3x3 -> f=3\n",
        "        # stride = 2 -> s=2\n",
        "        # padding = 1-> p=1\n",
        "        # input-data pixel size = 15x15 -> n=15\n",
        "        # (n-f+2p)/s + 1 = new n\n",
        "        # (15-3+2x1)/2 + 1 = 8\n",
        "\n",
        "        self.conv3 = nn.Conv2d(10,10,2, stride=1, padding=0)\n",
        "        #(8-2+2x0)/1+1 = 7\n",
        "\n",
        "        self.fc1 = nn.Linear(10 * 7 * 7, 340)\n",
        "        self.fc2 = nn.Linear(340, 100)\n",
        "        self.fc3 = nn.Linear(100, 10) # 10 : 10개의 category\n",
        "\n",
        "     def forward(self, x):\n",
        "        #print(x.size())\n",
        "        x = F.relu(self.conv1(x))\n",
        "        #print(x.size())\n",
        "        x = F.max_pool2d(x, (2,2))\n",
        "        #print(x.size())\n",
        "        x = F.relu(self.conv2(x))\n",
        "        x = F.relu(self.conv3(x))\n",
        "        #print(x.size())\n",
        "        #x = F.max_pool2d(x, 2)\n",
        "        #print(x.size())\n",
        "\n",
        "        x = x.view(-1, self.num_flat_features(x)) # num_flat_features : 아래에서 정의\n",
        "        #print(x.size())\n",
        "\n",
        "        x = F.relu(self.fc1(x))\n",
        "        #print(x.size())\n",
        "        x = F.relu(self.fc2(x))\n",
        "        #print(x.size())\n",
        "        x = self.fc3(x)\n",
        "        #print(x.size(), '\\n\\n')\n",
        "\n",
        "        return x\n",
        "    \n",
        "     def num_flat_features(self, x): # 처음 dim-size을 제외하고, 모두 곱한 값을 반환해준다.\n",
        "        size = x.size()[1:]\n",
        "        num_features = 1\n",
        "        for s in size:\n",
        "            num_features *= s\n",
        "        \n",
        "        return num_features\n",
        "\n",
        "net = Net()\n"
      ],
      "execution_count": 31,
      "outputs": []
    },
    {
      "cell_type": "code",
      "source": [
        "myNet = Net().to(device) # gpu에 모델 저장\n",
        "myNet"
      ],
      "metadata": {
        "id": "P5ZAjWK03iQ_",
        "colab": {
          "base_uri": "https://localhost:8080/"
        },
        "outputId": "c17edde3-58c3-4f93-e11e-7a1ec8da38cc"
      },
      "execution_count": 32,
      "outputs": [
        {
          "output_type": "execute_result",
          "data": {
            "text/plain": [
              "Net(\n",
              "  (conv1): Conv2d(3, 6, kernel_size=(3, 3), stride=(1, 1))\n",
              "  (maxpool1): MaxPool2d(kernel_size=2, stride=2, padding=0, dilation=1, ceil_mode=False)\n",
              "  (conv2): Conv2d(6, 10, kernel_size=(3, 3), stride=(2, 2), padding=(1, 1))\n",
              "  (conv3): Conv2d(10, 10, kernel_size=(2, 2), stride=(1, 1))\n",
              "  (fc1): Linear(in_features=490, out_features=340, bias=True)\n",
              "  (fc2): Linear(in_features=340, out_features=100, bias=True)\n",
              "  (fc3): Linear(in_features=100, out_features=10, bias=True)\n",
              ")"
            ]
          },
          "metadata": {},
          "execution_count": 32
        }
      ]
    },
    {
      "cell_type": "code",
      "source": [
        "# input; (4 * 3 * 32 * 32)\n",
        "\n",
        "input = images.to(device)\n",
        "input.size()"
      ],
      "metadata": {
        "colab": {
          "base_uri": "https://localhost:8080/"
        },
        "id": "aC1MMHle3jid",
        "outputId": "3fc3441c-8742-4fe6-cb27-d49ce3dacfb7"
      },
      "execution_count": 33,
      "outputs": [
        {
          "output_type": "execute_result",
          "data": {
            "text/plain": [
              "torch.Size([4, 3, 32, 32])"
            ]
          },
          "metadata": {},
          "execution_count": 33
        }
      ]
    },
    {
      "cell_type": "code",
      "source": [
        "#output; (4 * 10)\n",
        "\n",
        "output = myNet.forward(input)\n",
        "output.size()"
      ],
      "metadata": {
        "colab": {
          "base_uri": "https://localhost:8080/"
        },
        "id": "UYxJZCGo3uPZ",
        "outputId": "93e966ae-3a0a-4a65-c374-6c9dafa97276"
      },
      "execution_count": 34,
      "outputs": [
        {
          "output_type": "execute_result",
          "data": {
            "text/plain": [
              "torch.Size([4, 10])"
            ]
          },
          "metadata": {},
          "execution_count": 34
        }
      ]
    },
    {
      "cell_type": "code",
      "source": [
        "# 모델 구조 확인\n",
        "\n",
        "summary(myNet, input_size=(3,32,32), batch_size=4)"
      ],
      "metadata": {
        "id": "OS6RZEuB3wwa",
        "colab": {
          "base_uri": "https://localhost:8080/"
        },
        "outputId": "5199b2c6-8a8a-4b29-8f1e-6a81cce7537a"
      },
      "execution_count": 35,
      "outputs": [
        {
          "output_type": "stream",
          "name": "stdout",
          "text": [
            "----------------------------------------------------------------\n",
            "        Layer (type)               Output Shape         Param #\n",
            "================================================================\n",
            "            Conv2d-1             [4, 6, 30, 30]             168\n",
            "            Conv2d-2              [4, 10, 8, 8]             550\n",
            "            Conv2d-3              [4, 10, 7, 7]             410\n",
            "            Linear-4                   [4, 340]         166,940\n",
            "            Linear-5                   [4, 100]          34,100\n",
            "            Linear-6                    [4, 10]           1,010\n",
            "================================================================\n",
            "Total params: 203,178\n",
            "Trainable params: 203,178\n",
            "Non-trainable params: 0\n",
            "----------------------------------------------------------------\n",
            "Input size (MB): 0.05\n",
            "Forward/backward pass size (MB): 0.21\n",
            "Params size (MB): 0.78\n",
            "Estimated Total Size (MB): 1.03\n",
            "----------------------------------------------------------------\n"
          ]
        }
      ]
    },
    {
      "cell_type": "markdown",
      "metadata": {
        "id": "gogmHThzPrjK"
      },
      "source": [
        "## 손실함수와 옵티마이저"
      ]
    },
    {
      "cell_type": "code",
      "metadata": {
        "id": "X5SzxufZPpel"
      },
      "source": [
        "criterion = nn.CrossEntropyLoss()\n",
        "\n",
        "optimizer = optim.SGD(myNet.parameters(), lr=0.001, momentum=0.9)"
      ],
      "execution_count": 36,
      "outputs": []
    },
    {
      "cell_type": "markdown",
      "metadata": {
        "id": "_UnbIcKaPyQv"
      },
      "source": [
        "## 모델 학습"
      ]
    },
    {
      "cell_type": "code",
      "metadata": {
        "id": "jlWiR3LwPuwa",
        "colab": {
          "base_uri": "https://localhost:8080/"
        },
        "outputId": "4756d3f7-2cc9-4a21-c70f-65867f04be5e"
      },
      "source": [
        "# epochs = 10\n",
        "\n",
        "for epoch in range(15):\n",
        "    running_loss = 0.0\n",
        "\n",
        "    for i, data in enumerate(train_loader, start= 0):\n",
        "        inputs, labels = data[0].to(device), data[1].to(device)\n",
        "\n",
        "        optimizer.zero_grad()                            # 가중치 초기화\n",
        "\n",
        "        outputs = myNet(inputs)                          # y_pred\n",
        "        loss = criterion(outputs, labels)                           # 손실함수를 이용해서 loss계산\n",
        "        loss.backward()                           # back-propagation\n",
        "        optimizer.step()                          # 가중치 업데이트\n",
        "\n",
        "        running_loss += loss.item()\n",
        "        if i % 2000 == 1999:\n",
        "            print(\"Epoch: {}, Batch: {}, Loss: {}\".format(epoch+1, i+1, running_loss/2000))\n",
        "            running_loss = 0.0"
      ],
      "execution_count": 37,
      "outputs": [
        {
          "output_type": "stream",
          "name": "stdout",
          "text": [
            "Epoch: 1, Batch: 2000, Loss: 2.298922381401062\n",
            "Epoch: 1, Batch: 4000, Loss: 2.0512386840581893\n",
            "Epoch: 1, Batch: 6000, Loss: 1.8181023099422455\n",
            "Epoch: 1, Batch: 8000, Loss: 1.6504964170008898\n",
            "Epoch: 1, Batch: 10000, Loss: 1.592824029237032\n",
            "Epoch: 1, Batch: 12000, Loss: 1.5320089913606643\n",
            "Epoch: 2, Batch: 2000, Loss: 1.4524201611056924\n",
            "Epoch: 2, Batch: 4000, Loss: 1.400780993834138\n",
            "Epoch: 2, Batch: 6000, Loss: 1.3827170758619904\n",
            "Epoch: 2, Batch: 8000, Loss: 1.3468750884830951\n",
            "Epoch: 2, Batch: 10000, Loss: 1.3207543427050115\n",
            "Epoch: 2, Batch: 12000, Loss: 1.2807029163688421\n",
            "Epoch: 3, Batch: 2000, Loss: 1.2165205751731991\n",
            "Epoch: 3, Batch: 4000, Loss: 1.1978004663698376\n",
            "Epoch: 3, Batch: 6000, Loss: 1.2027684800233691\n",
            "Epoch: 3, Batch: 8000, Loss: 1.202350575529039\n",
            "Epoch: 3, Batch: 10000, Loss: 1.1693516307510436\n",
            "Epoch: 3, Batch: 12000, Loss: 1.1990705211982131\n",
            "Epoch: 4, Batch: 2000, Loss: 1.0808294683881103\n",
            "Epoch: 4, Batch: 4000, Loss: 1.0815183450579644\n",
            "Epoch: 4, Batch: 6000, Loss: 1.0709975356757642\n",
            "Epoch: 4, Batch: 8000, Loss: 1.0746775591559707\n",
            "Epoch: 4, Batch: 10000, Loss: 1.0901322278669103\n",
            "Epoch: 4, Batch: 12000, Loss: 1.0756865473613142\n",
            "Epoch: 5, Batch: 2000, Loss: 0.9448063604831696\n",
            "Epoch: 5, Batch: 4000, Loss: 0.9720433969409205\n",
            "Epoch: 5, Batch: 6000, Loss: 0.9859297524280846\n",
            "Epoch: 5, Batch: 8000, Loss: 0.982260637590196\n",
            "Epoch: 5, Batch: 10000, Loss: 0.994953201893717\n",
            "Epoch: 5, Batch: 12000, Loss: 1.0024839744218625\n",
            "Epoch: 6, Batch: 2000, Loss: 0.8670944219352678\n",
            "Epoch: 6, Batch: 4000, Loss: 0.8693754322566092\n",
            "Epoch: 6, Batch: 6000, Loss: 0.8712738491548225\n",
            "Epoch: 6, Batch: 8000, Loss: 0.9160363533509662\n",
            "Epoch: 6, Batch: 10000, Loss: 0.9321970129697583\n",
            "Epoch: 6, Batch: 12000, Loss: 0.9300870093479753\n",
            "Epoch: 7, Batch: 2000, Loss: 0.7561804939559661\n",
            "Epoch: 7, Batch: 4000, Loss: 0.7960325574558228\n",
            "Epoch: 7, Batch: 6000, Loss: 0.8029081859729486\n",
            "Epoch: 7, Batch: 8000, Loss: 0.8410832167449407\n",
            "Epoch: 7, Batch: 10000, Loss: 0.837712833623751\n",
            "Epoch: 7, Batch: 12000, Loss: 0.8647612067423761\n",
            "Epoch: 8, Batch: 2000, Loss: 0.6728512466485008\n",
            "Epoch: 8, Batch: 4000, Loss: 0.704338430695032\n",
            "Epoch: 8, Batch: 6000, Loss: 0.7513768255696632\n",
            "Epoch: 8, Batch: 8000, Loss: 0.7672865624256665\n",
            "Epoch: 8, Batch: 10000, Loss: 0.7829593080112245\n",
            "Epoch: 8, Batch: 12000, Loss: 0.7949094584343256\n",
            "Epoch: 9, Batch: 2000, Loss: 0.6078411100647063\n",
            "Epoch: 9, Batch: 4000, Loss: 0.6563624940785813\n",
            "Epoch: 9, Batch: 6000, Loss: 0.6871278061079793\n",
            "Epoch: 9, Batch: 8000, Loss: 0.6893421332320431\n",
            "Epoch: 9, Batch: 10000, Loss: 0.7335044386842056\n",
            "Epoch: 9, Batch: 12000, Loss: 0.7321248877341859\n",
            "Epoch: 10, Batch: 2000, Loss: 0.5448323399256915\n",
            "Epoch: 10, Batch: 4000, Loss: 0.5854050388230099\n",
            "Epoch: 10, Batch: 6000, Loss: 0.6294079545105924\n",
            "Epoch: 10, Batch: 8000, Loss: 0.6373414938647475\n",
            "Epoch: 10, Batch: 10000, Loss: 0.6709188054949882\n",
            "Epoch: 10, Batch: 12000, Loss: 0.6783461790470464\n",
            "Epoch: 11, Batch: 2000, Loss: 0.503487599548661\n",
            "Epoch: 11, Batch: 4000, Loss: 0.5264827274525566\n",
            "Epoch: 11, Batch: 6000, Loss: 0.5854093358858808\n",
            "Epoch: 11, Batch: 8000, Loss: 0.603580942960194\n",
            "Epoch: 11, Batch: 10000, Loss: 0.6417553368719964\n",
            "Epoch: 11, Batch: 12000, Loss: 0.6291956029826542\n",
            "Epoch: 12, Batch: 2000, Loss: 0.44215521844385874\n",
            "Epoch: 12, Batch: 4000, Loss: 0.4940172962731731\n",
            "Epoch: 12, Batch: 6000, Loss: 0.5432139194339833\n",
            "Epoch: 12, Batch: 8000, Loss: 0.5678846614523936\n",
            "Epoch: 12, Batch: 10000, Loss: 0.5622850719943635\n",
            "Epoch: 12, Batch: 12000, Loss: 0.6039379444531369\n",
            "Epoch: 13, Batch: 2000, Loss: 0.41343467760450586\n",
            "Epoch: 13, Batch: 4000, Loss: 0.45732400008191326\n",
            "Epoch: 13, Batch: 6000, Loss: 0.5077656940279776\n",
            "Epoch: 13, Batch: 8000, Loss: 0.5503413051748288\n",
            "Epoch: 13, Batch: 10000, Loss: 0.5294911395457602\n",
            "Epoch: 13, Batch: 12000, Loss: 0.5524212020653667\n",
            "Epoch: 14, Batch: 2000, Loss: 0.37469730045968047\n",
            "Epoch: 14, Batch: 4000, Loss: 0.41876903923841563\n",
            "Epoch: 14, Batch: 6000, Loss: 0.4638203235713636\n",
            "Epoch: 14, Batch: 8000, Loss: 0.5116111157057021\n",
            "Epoch: 14, Batch: 10000, Loss: 0.5290419154318515\n",
            "Epoch: 14, Batch: 12000, Loss: 0.5398104404095939\n",
            "Epoch: 15, Batch: 2000, Loss: 0.3669863420100105\n",
            "Epoch: 15, Batch: 4000, Loss: 0.4120114095476561\n",
            "Epoch: 15, Batch: 6000, Loss: 0.4585093260474132\n",
            "Epoch: 15, Batch: 8000, Loss: 0.4722911050605471\n",
            "Epoch: 15, Batch: 10000, Loss: 0.48443303037362057\n",
            "Epoch: 15, Batch: 12000, Loss: 0.5217303544105707\n"
          ]
        }
      ]
    },
    {
      "cell_type": "markdown",
      "metadata": {
        "id": "NqYnwxJ3P8Gb"
      },
      "source": [
        "## 모델의 저장 및 로드"
      ]
    },
    {
      "cell_type": "code",
      "metadata": {
        "id": "keqtypx1QY6t",
        "colab": {
          "base_uri": "https://localhost:8080/",
          "height": 153
        },
        "outputId": "a02fecb7-bfdf-48a9-d1e5-cb633bf6b052"
      },
      "source": [
        "# 잘 학습된 모델인지 간단히 한 batch에 대해서 확인\n",
        "\n",
        "dataiter = iter(test_loader)\n",
        "images, labels = next(dataiter)\n",
        "\n",
        "imshow(torchvision.utils.make_grid(images))\n",
        "print(' '.join('\\t{}'.format(class_list[labels[j]]) for j in range(4))) # batch-size = 4"
      ],
      "execution_count": 38,
      "outputs": [
        {
          "output_type": "display_data",
          "data": {
            "text/plain": [
              "<Figure size 432x288 with 1 Axes>"
            ],
            "image/png": "[encoded data removed]"
          },
          "metadata": {}
        },
        {
          "output_type": "stream",
          "name": "stdout",
          "text": [
            "\tcat \tship \tship \tplane\n"
          ]
        }
      ]
    },
    {
      "cell_type": "code",
      "metadata": {
        "id": "z6UYtCT4P3Tj"
      },
      "source": [
        "# 저장\n",
        "\n",
        "PATH = './cifar_net.pth'\n",
        "torch.save(myNet.state_dict(), PATH)"
      ],
      "execution_count": 39,
      "outputs": []
    },
    {
      "cell_type": "code",
      "metadata": {
        "id": "FfsXzP9NQbMg",
        "colab": {
          "base_uri": "https://localhost:8080/"
        },
        "outputId": "bd6c9ede-505b-4666-d779-1072cf5b3e17"
      },
      "source": [
        "# 불러오기\n",
        "\n",
        "Loaded_Net = Net().to(device)\n",
        "Loaded_Net.load_state_dict(torch.load(PATH))"
      ],
      "execution_count": 24,
      "outputs": [
        {
          "output_type": "execute_result",
          "data": {
            "text/plain": [
              "<All keys matched successfully>"
            ]
          },
          "metadata": {},
          "execution_count": 24
        }
      ]
    },
    {
      "cell_type": "markdown",
      "metadata": {
        "id": "1dvGiVkrQ2cf"
      },
      "source": [
        "## 모델 테스트\n",
        "* 조건\n",
        "> 전체 accuracy가 70% 이상이어야한다.<br>\n",
        "> 각각의 class에 대한 accuracy는 60% 이상이어야한다."
      ]
    },
    {
      "cell_type": "code",
      "metadata": {
        "id": "ajGFbhDvQtlp",
        "colab": {
          "base_uri": "https://localhost:8080/"
        },
        "outputId": "4699ef1f-15ef-4547-b143-7fd22c322630"
      },
      "source": [
        "# 전체 accuracy 확인; 70% 이상 성능값\n",
        "\n",
        "correct = 0\n",
        "total = 0\n",
        "\n",
        "with torch.no_grad():\n",
        "    for data in test_loader:\n",
        "        images, labels = data[0].to(device), data[1].to(device)                                              # model객체도 gpu에 저장했음으로, 사용되는 데이터도 gpu에 저장한다.; to(device) 사용\n",
        "        outputs = Loaded_Net(images)                                             # y_pred\n",
        "        _, predicted = torch.max(outputs.data, axis=1)  # 확률이 가장 큰 것의 label을 최종 예측값으로 선택\n",
        "        total += labels.size(0) # 전체 갯수\n",
        "        correct += (predicted == labels).sum().item()   # 맞춘 갯수\n",
        "    \n",
        "    print(100 * correct / total)"
      ],
      "execution_count": 40,
      "outputs": [
        {
          "output_type": "stream",
          "name": "stdout",
          "text": [
            "60.87\n"
          ]
        }
      ]
    },
    {
      "cell_type": "markdown",
      "metadata": {
        "id": "trWVf5YvRYI0"
      },
      "source": [
        "- 어떤 것을 잘 분류했고, 잘 못했는지 확인"
      ]
    },
    {
      "cell_type": "code",
      "metadata": {
        "id": "P9p7QKhDQzpC",
        "colab": {
          "base_uri": "https://localhost:8080/"
        },
        "outputId": "b2c4e292-9c37-45e1-e828-e8ad8f2bbd61"
      },
      "source": [
        "# 각각의 class에 대한 accuracy 확인; 각각의 class에 대한 60% 이상 성능값\n",
        "\n",
        "class_correct = list(0. for i in range(10))\n",
        "class_total = list(0. for i in range(10))\n",
        "\n",
        "with torch.no_grad():\n",
        "    for data in test_loader:\n",
        "        images, labels = data[0].to(device), data[1].to(device)\n",
        "        outputs = Loaded_Net(images)\n",
        "        _, predicted = torch.max(outputs.data, axis=1)\n",
        "        c = (predicted == labels).squeeze()\n",
        "        for i in range(4): # 각각의 batch(batch-size : 4) 마다 계싼\n",
        "            label = labels[i]\n",
        "            class_correct[label] += c[i].item()\n",
        "            class_total[label] += 1\n",
        "\n",
        "for i in range(10):\n",
        "    print(\"Accuracy of {}: {}%\".format(class_list[i], 100 * class_correct[i] / class_total[i]))"
      ],
      "execution_count": 41,
      "outputs": [
        {
          "output_type": "stream",
          "name": "stdout",
          "text": [
            "Accuracy of plane: 62.4%\n",
            "Accuracy of car: 68.3%\n",
            "Accuracy of bird: 47.5%\n",
            "Accuracy of cat: 36.7%\n",
            "Accuracy of deer: 59.4%\n",
            "Accuracy of dog: 47.4%\n",
            "Accuracy of frog: 77.0%\n",
            "Accuracy of horse: 65.9%\n",
            "Accuracy of ship: 73.0%\n",
            "Accuracy of truck: 71.1%\n"
          ]
        }
      ]
    },
    {
      "cell_type": "code",
      "source": [
        "#이놈의 개랑 고양이가 구별이 안되서 70%를 못넘기겠습니다.....!!!!!!!!!!!!!!!!!!!!!!!!!!!!!!!!!!!!!!!"
      ],
      "metadata": {
        "id": "h4CpxXeLoIr-"
      },
      "execution_count": 42,
      "outputs": []
    }
  ]
}